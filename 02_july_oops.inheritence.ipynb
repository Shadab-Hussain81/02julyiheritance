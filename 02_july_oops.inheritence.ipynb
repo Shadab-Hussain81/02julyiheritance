{
 "cells": [
  {
   "cell_type": "markdown",
   "id": "d9210976-7f2c-468b-9dd9-c7edac489ab7",
   "metadata": {},
   "source": [
    "1. Explain what inheritance is in object-oriented programming and why it is used."
   ]
  },
  {
   "cell_type": "markdown",
   "id": "564a7d69-7bda-4b7c-acbb-3f81b6ef3f3e",
   "metadata": {},
   "source": [
    "Ans In object-oriented programming (OOP), inheritance is a mechanism that allows a class to inherit properties and behaviors from another class. It is one of the fundamental concepts of OOP and promotes code reusability and modularity.\n",
    "\n",
    "Inheritance works by creating a parent-child relationship between classes, where the child class (also known as a derived class or subclass) inherits the characteristics of the parent class (also known as a base class or superclass). The child class can access and use the attributes (data members) and methods (member functions) of the parent class as if they were defined within the child class itself.\n",
    "\n",
    "The primary reasons for using inheritance are:\n",
    "\n",
    "Code reuse: Inheritance allows you to define common attributes and behaviors in a base class and then reuse them in multiple derived classes. This eliminates the need to duplicate code and promotes a more efficient and manageable codebase.\n",
    "\n",
    "Modularity and extensibility: Inheritance provides a way to extend or modify the behavior of existing classes without modifying their original implementation. You can create new classes (derived classes) that inherit from an existing class (base class) and add or override specific features as needed. This promotes modular and flexible design, making it easier to maintain and update the code.\n",
    "\n",
    "Polymorphism: Inheritance is closely tied to polymorphism, which is the ability of objects of different classes to be treated as objects of a common base class. Polymorphism allows you to write code that can work with objects of different types, as long as they inherit from the same base class. This concept enhances code flexibility and enables dynamic method binding at runtime."
   ]
  },
  {
   "cell_type": "markdown",
   "id": "d00d26c8-e23b-4bfb-a80b-4952e9c21572",
   "metadata": {},
   "source": [
    "Que 2. Discuss the concept of single inheritance and multiple inheritance, highlighting their\n",
    "differences and advantages."
   ]
  },
  {
   "cell_type": "markdown",
   "id": "d834f1f1-c543-4edf-9a70-581df821f4a7",
   "metadata": {},
   "source": [
    "Ans In object-oriented programming, single inheritance and multiple inheritance are two different approaches to class inheritance. They define how a subclass can inherit characteristics and behaviors from one or more parent classes. Let's discuss each concept and highlight their differences and advantages.\n",
    "\n",
    "Single Inheritance:\n",
    "Single inheritance refers to the ability of a class to inherit properties and methods from a single parent class. In this approach, a subclass extends or inherits the attributes and behaviors of only one superclass. The single inheritance hierarchy forms a linear structure.\n",
    "Advantages of Single Inheritance:\n",
    "a. Simplicity: Single inheritance offers a straightforward and simple model of inheritance. It is easy to understand and implement.\n",
    "b. Clear Hierarchical Structure: With single inheritance, the class hierarchy remains clear and easy to follow since each class has only one direct superclass.\n",
    "c. Avoiding Diamond Problem: The diamond problem occurs in multiple inheritance when a subclass inherits from two or more classes that have a common superclass. Single inheritance avoids this problem altogether.\n",
    "\n",
    "Multiple Inheritance:\n",
    "Multiple inheritance allows a class to inherit attributes and behaviors from multiple parent classes. In this approach, a subclass can inherit from two or more superclasses, forming a directed acyclic graph structure.\n",
    "Advantages of Multiple Inheritance:\n",
    "a. Reusability: Multiple inheritance allows a class to inherit and reuse code from multiple superclasses. It promotes code reuse and modularity.\n",
    "b. Expressive Power: Multiple inheritance provides greater flexibility and expressive power in designing complex class relationships. It enables the creation of classes that combine features from different sources.\n",
    "c. Polymorphism: Multiple inheritance can enhance polymorphism by allowing a subclass to inherit and override methods from multiple superclasses. This enables the creation of specialized subclasses that exhibit multiple behaviors.\n",
    "\n",
    "Differences between Single Inheritance and Multiple Inheritance:\n",
    "\n",
    "Structure: Single inheritance forms a linear hierarchy, whereas multiple inheritance forms a graph-like structure.\n",
    "Number of Superclasses: Single inheritance allows only one superclass, whereas multiple inheritance allows multiple superclasses.\n",
    "Complexity: Single inheritance is generally simpler to understand and implement compared to multiple inheritance, which can be more complex and requires careful management of potential conflicts.\n",
    "Diamond Problem: Single inheritance avoids the diamond problem by allowing only one superclass, while multiple inheritance may encounter the diamond problem when two or more superclasses share a common superclass."
   ]
  },
  {
   "cell_type": "markdown",
   "id": "00c48ded-5f69-4186-b67f-c2c9709b7b91",
   "metadata": {},
   "source": [
    " Que 3. Explain the terms \"base class\" and \"derived class\" in the context of inheritance."
   ]
  },
  {
   "cell_type": "markdown",
   "id": "009d18f1-c064-47c9-a092-0f8ecdbdd979",
   "metadata": {},
   "source": [
    "Ans  In object-oriented programming, specifically in the context of inheritance, the terms \"base class\" and \"derived class\" refer to the relationship between classes.\n",
    "\n",
    "A base class, also known as a superclass or parent class, is a class that serves as the foundation or template for other classes. It defines common attributes, properties, and behaviors that can be inherited by other classes. The base class provides a blueprint or a set of instructions for the derived classes to follow. It encapsulates the common functionality and can be considered more general or abstract.\n",
    "\n",
    "A derived class, also known as a subclass or child class, is a class that inherits properties and behaviors from its base class. It extends or specializes the base class by adding additional features or modifying existing ones. The derived class inherits all the members (methods and attributes) defined in the base class and can also introduce new members or override inherited ones. It can be considered more specific or specialized than the base class.\n",
    "\n",
    "The concept of inheritance allows for code reuse and promotes the idea of creating hierarchical relationships between classes. By defining common functionality in a base class, derived classes can inherit and extend that functionality, while also adding their unique characteristics. This approach helps in organizing and structuring code, promoting modularity and extensibility, and reducing redundancy.\n",
    "\n",
    "To illustrate this concept, consider an example where you have a base class called \"Animal,\" which defines common attributes and methods like \"name\" and \"eat.\" You can then create derived classes like \"Dog,\" \"Cat,\" and \"Bird\" that inherit from the \"Animal\" class. The derived classes can inherit the common attributes and methods from the base class while also adding their specific behaviors such as \"bark\" for the \"Dog\" class or \"fly\" for the \"Bird\" class."
   ]
  },
  {
   "cell_type": "markdown",
   "id": "3000cf3a-15ab-4c05-836b-7246c7edb366",
   "metadata": {},
   "source": [
    "Que 4. What is the significance of the \"protected\" access modifier in inheritance? How does\n",
    "it differ from \"private\" and \"public\" modifiers?"
   ]
  },
  {
   "cell_type": "markdown",
   "id": "6e210137-03da-4b1e-aba0-979b27478732",
   "metadata": {},
   "source": [
    "Ans In object-oriented programming languages like Java, the \"protected\" access modifier is used to specify that a class member (such as a variable or method) is accessible within the same package and also to the subclasses of the class, regardless of whether they are in the same package or not. Here are the differences between the \"protected,\" \"private,\" and \"public\" modifiers in the context of inheritance:\n",
    "\n",
    "\"protected\": When a class member is declared as protected, it can be accessed by other classes in the same package as well as by subclasses, even if they are in a different package. This allows for controlled access within the inheritance hierarchy and promotes code reusability.\n",
    "\n",
    "\"private\": The private access modifier restricts the access of a class member only to the class in which it is declared. It is not accessible by other classes, including subclasses. Private members are often used to encapsulate internal implementation details and ensure data integrity. They are not inherited by subclasses.\n",
    "\n",
    "\"public\": A class member declared as public has the least restrictive access and can be accessed from any class in the program, regardless of the package. Public members are widely accessible and can be inherited by subclasses. They are often used for defining the interface of a class or providing access to necessary functionality."
   ]
  },
  {
   "cell_type": "markdown",
   "id": "ed1f1217-8b5a-45a9-ad0d-63c37c306a73",
   "metadata": {},
   "source": [
    "5. What is the purpose of the \"super\" keyword in inheritance? Provide an example."
   ]
  },
  {
   "cell_type": "markdown",
   "id": "09ed8a23-4180-4ada-9e1f-47bc9d336d03",
   "metadata": {},
   "source": [
    "Ans In object-oriented programming, the \"super\" keyword is used to refer to the parent class or superclass. It allows the derived class or subclass to access and call methods, constructors, and member variables of its superclass.\n",
    "\n",
    "The primary purpose of the \"super\" keyword in inheritance is to invoke the superclass's implementation of a method or constructor, while still providing the ability to extend or override that implementation in the subclass."
   ]
  },
  {
   "cell_type": "code",
   "execution_count": 3,
   "id": "25b4581f-b32e-4459-85c2-5151b502ad66",
   "metadata": {},
   "outputs": [
    {
     "ename": "SyntaxError",
     "evalue": "invalid syntax (3680095504.py, line 1)",
     "output_type": "error",
     "traceback": [
      "\u001b[0;36m  Cell \u001b[0;32mIn [3], line 1\u001b[0;36m\u001b[0m\n\u001b[0;31m    class Vehicle {\u001b[0m\n\u001b[0m                  ^\u001b[0m\n\u001b[0;31mSyntaxError\u001b[0m\u001b[0;31m:\u001b[0m invalid syntax\n"
     ]
    }
   ],
   "source": [
    "class Vehicle {\n",
    "   protected String brand;\n",
    "\n",
    "   public Vehicle(String brand) {\n",
    "      this.brand = brand;\n",
    "   }\n",
    "\n",
    "   public void displayInfo() {\n",
    "      System.out.println(\"Brand: \" + brand);\n",
    "   }\n",
    "}\n",
    "\n",
    "class Car extends Vehicle {\n",
    "   private int year;\n",
    "\n",
    "   public Car(String brand, int year) {\n",
    "      super(brand); // Calling the superclass constructor\n",
    "      this.year = year;\n",
    "   }\n",
    "\n",
    "   // Overriding the displayInfo() method\n",
    "   @Override\n",
    "   public void displayInfo() {\n",
    "      super.displayInfo(); // Calling the superclass method\n",
    "      System.out.println(\"Year: \" + year);\n",
    "   }\n",
    "}\n",
    "\n",
    "public class Main {\n",
    "   public static void main(String[] args) {\n",
    "      Car myCar = new Car(\"Toyota\", 2022);\n",
    "      myCar.displayInfo();\n",
    "   }\n",
    "}"
   ]
  },
  {
   "cell_type": "markdown",
   "id": "7b0911e0-7043-4db4-ba73-d76382aeccaa",
   "metadata": {},
   "source": [
    "Que  6. Create a base class called \"Vehicle\" with attributes like \"make\", \"model\", and \"year\".\n",
    "Then, create a derived class called \"Car\" that inherits from \"Vehicle\" and adds an\n",
    "attribute called \"fuel_type\". Implement appropriate methods in both classes."
   ]
  },
  {
   "cell_type": "code",
   "execution_count": 4,
   "id": "4bc7eb44-ab8a-4266-b1bb-67935508b684",
   "metadata": {},
   "outputs": [
    {
     "name": "stdout",
     "output_type": "stream",
     "text": [
      "Toyota\n",
      "Camry\n",
      "2022\n",
      "gasoline\n"
     ]
    }
   ],
   "source": [
    "class Vehicle:\n",
    "    def __init__(self, make, model, year):\n",
    "        self.make = make\n",
    "        self.model = model\n",
    "        self.year = year\n",
    "\n",
    "    def get_make(self):\n",
    "        return self.make\n",
    "\n",
    "    def get_model(self):\n",
    "        return self.model\n",
    "\n",
    "    def get_year(self):\n",
    "        return self.year\n",
    "\n",
    "\n",
    "class Car(Vehicle):\n",
    "    def __init__(self, make, model, year, fuel_type):\n",
    "        super().__init__(make, model, year)\n",
    "        self.fuel_type = fuel_type\n",
    "\n",
    "    def get_fuel_type(self):\n",
    "        return self.fuel_type\n",
    "\n",
    "\n",
    "# Example usage\n",
    "car = Car(\"Toyota\", \"Camry\", 2022, \"gasoline\")\n",
    "print(car.get_make())  # Output: Toyota\n",
    "print(car.get_model())  # Output: Camry\n",
    "print(car.get_year())  # Output: 2022\n",
    "print(car.get_fuel_type())  # Output: gasoline"
   ]
  },
  {
   "cell_type": "markdown",
   "id": "d8550a77-aff2-464c-a527-a5589c866db5",
   "metadata": {},
   "source": [
    "Que 7. Create a base class called \"Employee\" with attributes like \"name\" and \"salary.\"\n",
    "Derive two classes, \"Manager\" and \"Developer,\" from \"Employee.\" Add an additional\n",
    "attribute called \"department\" for the \"Manager\" class and \"programming_language\"\n",
    "for the \"Developer\" class."
   ]
  },
  {
   "cell_type": "code",
   "execution_count": 5,
   "id": "cc832e70-1f2f-4dc9-bc39-619f111d1e88",
   "metadata": {},
   "outputs": [],
   "source": [
    "class Employee:\n",
    "    def __init__(self, name, salary):\n",
    "        self.name = name\n",
    "        self.salary = salary\n",
    "\n",
    "class Manager(Employee):\n",
    "    def __init__(self, name, salary, department):\n",
    "        super().__init__(name, salary)\n",
    "        self.department = department\n",
    "\n",
    "class Developer(Employee):\n",
    "    def __init__(self, name, salary, programming_language):\n",
    "        super().__init__(name, salary)\n",
    "        self.programming_language = programming_language"
   ]
  },
  {
   "cell_type": "code",
   "execution_count": 6,
   "id": "a8ae33b1-8a26-4a23-9991-7ccbce091590",
   "metadata": {},
   "outputs": [
    {
     "name": "stdout",
     "output_type": "stream",
     "text": [
      "John Doe\n",
      "5000\n",
      "Human Resources\n",
      "Jane Smith\n",
      "4000\n",
      "Python\n"
     ]
    }
   ],
   "source": [
    "manager = Manager(\"John Doe\", 5000, \"Human Resources\")\n",
    "print(manager.name)  # Output: John Doe\n",
    "print(manager.salary)  # Output: 5000\n",
    "print(manager.department)  # Output: Human Resources\n",
    "\n",
    "developer = Developer(\"Jane Smith\", 4000, \"Python\")\n",
    "print(developer.name)  # Output: Jane Smith\n",
    "print(developer.salary)  # Output: 4000\n",
    "print(developer.programming_language)  # Output: Python\n"
   ]
  },
  {
   "cell_type": "markdown",
   "id": "a1a88139-17fb-4201-b5db-a612c9aa246f",
   "metadata": {},
   "source": [
    "Que 8. Design a base class called \"Shape\" with attributes like \"colour\" and \"border_width.\"\n",
    "Create derived classes, \"Rectangle\" and \"Circle,\" that inherit from \"Shape\" and add\n",
    "specific attributes like \"length\" and \"width\" for the \"Rectangle\" class and \"radius\" for\n",
    "the \"Circle\" class."
   ]
  },
  {
   "cell_type": "code",
   "execution_count": 7,
   "id": "1f8f9ce1-489d-406c-b6ca-a7a745ed8e41",
   "metadata": {},
   "outputs": [],
   "source": [
    "class Shape:\n",
    "    def __init__(self, colour, border_width):\n",
    "        self.colour = colour\n",
    "        self.border_width = border_width\n",
    "\n",
    "\n",
    "class Rectangle(Shape):\n",
    "    def __init__(self, colour, border_width, length, width):\n",
    "        super().__init__(colour, border_width)\n",
    "        self.length = length\n",
    "        self.width = width\n",
    "\n",
    "\n",
    "class Circle(Shape):\n",
    "    def __init__(self, colour, border_width, radius):\n",
    "        super().__init__(colour, border_width)\n",
    "        self.radius = radius"
   ]
  },
  {
   "cell_type": "code",
   "execution_count": 8,
   "id": "d3aad0ea-c9f3-4f20-904d-2fa785688fe3",
   "metadata": {},
   "outputs": [
    {
     "name": "stdout",
     "output_type": "stream",
     "text": [
      "red\n",
      "2\n",
      "10\n",
      "5\n",
      "blue\n",
      "1\n",
      "7\n"
     ]
    }
   ],
   "source": [
    "# Creating a Rectangle object\n",
    "rectangle = Rectangle(\"red\", 2, 10, 5)\n",
    "print(rectangle.colour)       # Output: red\n",
    "print(rectangle.border_width)  # Output: 2\n",
    "print(rectangle.length)        # Output: 10\n",
    "print(rectangle.width)         # Output: 5\n",
    "\n",
    "# Creating a Circle object\n",
    "circle = Circle(\"blue\", 1, 7)\n",
    "print(circle.colour)          # Output: blue\n",
    "print(circle.border_width)     # Output: 1\n",
    "print(circle.radius)           # Output: 7"
   ]
  },
  {
   "cell_type": "markdown",
   "id": "c78c8eb8-a6d9-4c69-aa44-631c6e496dc6",
   "metadata": {},
   "source": [
    "Que 9. Create a base class called \"Device\" with attributes like \"brand\" and \"model.\" Derive\n",
    "two classes, \"Phone\" and \"Tablet,\" from \"Device.\" Add specific attributes like\n",
    "\"screen_size\" for the \"Phone\" class and \"battery_capacity\" for the \"Tablet\" class."
   ]
  },
  {
   "cell_type": "code",
   "execution_count": 9,
   "id": "e3b5a195-8401-42b3-9539-b8a70ecf6ad4",
   "metadata": {},
   "outputs": [
    {
     "name": "stdout",
     "output_type": "stream",
     "text": [
      "Phone: Apple iPhone 12\n",
      "Screen Size: 6.1 inches\n",
      "Tablet: Samsung Galaxy Tab S7\n",
      "Battery Capacity: 8000 mAh\n"
     ]
    }
   ],
   "source": [
    "class Device:\n",
    "    def __init__(self, brand, model):\n",
    "        self.brand = brand\n",
    "        self.model = model\n",
    "\n",
    "\n",
    "class Phone(Device):\n",
    "    def __init__(self, brand, model, screen_size):\n",
    "        super().__init__(brand, model)\n",
    "        self.screen_size = screen_size\n",
    "\n",
    "\n",
    "class Tablet(Device):\n",
    "    def __init__(self, brand, model, battery_capacity):\n",
    "        super().__init__(brand, model)\n",
    "        self.battery_capacity = battery_capacity\n",
    "\n",
    "\n",
    "# Example usage:\n",
    "my_phone = Phone(\"Apple\", \"iPhone 12\", 6.1)\n",
    "print(f\"Phone: {my_phone.brand} {my_phone.model}\")\n",
    "print(f\"Screen Size: {my_phone.screen_size} inches\")\n",
    "\n",
    "my_tablet = Tablet(\"Samsung\", \"Galaxy Tab S7\", 8000)\n",
    "print(f\"Tablet: {my_tablet.brand} {my_tablet.model}\")\n",
    "print(f\"Battery Capacity: {my_tablet.battery_capacity} mAh\")"
   ]
  },
  {
   "cell_type": "markdown",
   "id": "bc3c77f0-9d8e-4876-b91d-05904ae565dc",
   "metadata": {},
   "source": [
    "Que 10. Create a base class called \"BankAccount\" with attributes like \"account_number\" and\n",
    "\"balance.\" Derive two classes, \"SavingsAccount\" and \"CheckingAccount,\" from\n",
    "\"BankAccount.\" Add specific methods like \"calculate_interest\" for the\n",
    "\"SavingsAccount\" class and \"deduct_fees\" for the \"CheckingAccount\" class."
   ]
  },
  {
   "cell_type": "code",
   "execution_count": null,
   "id": "0af4349c-2c5a-46a0-a7ff-d079d1ca56e2",
   "metadata": {},
   "outputs": [],
   "source": []
  }
 ],
 "metadata": {
  "kernelspec": {
   "display_name": "Python 3 (ipykernel)",
   "language": "python",
   "name": "python3"
  },
  "language_info": {
   "codemirror_mode": {
    "name": "ipython",
    "version": 3
   },
   "file_extension": ".py",
   "mimetype": "text/x-python",
   "name": "python",
   "nbconvert_exporter": "python",
   "pygments_lexer": "ipython3",
   "version": "3.10.6"
  }
 },
 "nbformat": 4,
 "nbformat_minor": 5
}
